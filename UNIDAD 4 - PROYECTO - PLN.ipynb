{
 "cells": [
  {
   "cell_type": "markdown",
   "id": "b2132627",
   "metadata": {},
   "source": [
    "# UNIDAD 4 - PROYECTO: ANÁLISIS DE SENTIMIENTOS Y PREDICCIÓN."
   ]
  },
  {
   "cell_type": "markdown",
   "id": "7ae4a441",
   "metadata": {},
   "source": [
    "## ALUMNO: Abimael Bautista Oliveros\n",
    "## NÚMERO DE CONTROL: 20120084"
   ]
  },
  {
   "cell_type": "markdown",
   "id": "9336d5c6",
   "metadata": {},
   "source": [
    "## PRESENTACIÓN.\n",
    "\n",
    "El siguiente proyecto consiste en emplear el análisis de sentimientos para tratar de predecir las calificaciones de una serie.\n",
    "\n",
    "El dataset es sobre las calificaciones que recibió la adaptación al \"live-action\" el anime \"OnePiece\".\n",
    "\n",
    "El dataset contiene las reseñas que se recibieron en la plataforma de Netflix, el dataset contiene información como:\n",
    "\n",
    "* Título.\n",
    "* Reseña.\n",
    "* Fecha.\n",
    "* Calificación.\n"
   ]
  },
  {
   "cell_type": "markdown",
   "id": "2d9d06a4",
   "metadata": {},
   "source": [
    "## ETAPA 1: ANÁLISIS EXPLORATORIO DE LOS DATOS.\n",
    "\n",
    "### Paso 1. Importe las librerías necesarias (pandas, numpy, seaborn, nltk, etc...)\n",
    "\n",
    "### Paso 2. Cargue y muestre información del dataset; muestre información estadística de las columnas numéricas.\n",
    "\n",
    "### Paso 3. Identifique los datos nulos: muestre las filas que contienen datos nulos (no se deben tratar aún).\n",
    "\n",
    "### Paso 4. Muestre la distribución de la columna \"Rating\", haga un análisis de la distribución.\n",
    "\n",
    "### Paso 5. Identifique si alguna de las columnas se puede convertir en categórica.\n"
   ]
  },
  {
   "cell_type": "code",
   "execution_count": 51,
   "id": "466001e3",
   "metadata": {},
   "outputs": [
    {
     "name": "stderr",
     "output_type": "stream",
     "text": [
      "[nltk_data] Downloading package stopwords to\n",
      "[nltk_data]     C:\\Users\\ABIMAEL\\AppData\\Roaming\\nltk_data...\n",
      "[nltk_data]   Package stopwords is already up-to-date!\n",
      "[nltk_data] Downloading package wordnet to\n",
      "[nltk_data]     C:\\Users\\ABIMAEL\\AppData\\Roaming\\nltk_data...\n",
      "[nltk_data]   Package wordnet is already up-to-date!\n",
      "[nltk_data] Downloading package vader_lexicon to\n",
      "[nltk_data]     C:\\Users\\ABIMAEL\\AppData\\Roaming\\nltk_data...\n",
      "[nltk_data]   Package vader_lexicon is already up-to-date!\n"
     ]
    }
   ],
   "source": [
    "import pandas as pd\n",
    "import matplotlib.pyplot as plt\n",
    "import seaborn as sns\n",
    "import numpy as np\n",
    "from nltk.tokenize import word_tokenize\n",
    "from nltk.corpus import stopwords\n",
    "from nltk.stem import WordNetLemmatizer\n",
    "import nltk\n",
    "nltk.download('punkt')\n",
    "nltk.download('stopwords')\n",
    "nltk.download('wordnet')\n",
    "nltk.download('vader_lexicon')\n",
    "from nltk.sentiment import SentimentIntensityAnalyzer\n",
    "from sklearn.model_selection import train_test_split\n",
    "from sklearn.neighbors import KNeighborsClassifier\n",
    "from sklearn.svm import SVC\n",
    "from sklearn.ensemble import RandomForestClassifier\n",
    "from sklearn.metrics import accuracy_score\n",
    "from sklearn.metrics import mean_squared_error\n",
    "\n",
    "\n",
    "\n",
    "\n",
    "df = pd.read_csv('reviews.csv')"
   ]
  },
  {
   "cell_type": "code",
   "execution_count": 62,
   "id": "6f9a06c5",
   "metadata": {},
   "outputs": [
    {
     "name": "stdout",
     "output_type": "stream",
     "text": [
      "<class 'pandas.core.frame.DataFrame'>\n",
      "RangeIndex: 878 entries, 0 to 877\n",
      "Data columns (total 4 columns):\n",
      " #   Column  Non-Null Count  Dtype  \n",
      "---  ------  --------------  -----  \n",
      " 0   Title   878 non-null    object \n",
      " 1   Review  878 non-null    object \n",
      " 2   Date    878 non-null    object \n",
      " 3   Rating  870 non-null    float64\n",
      "dtypes: float64(1), object(3)\n",
      "memory usage: 27.6+ KB\n"
     ]
    },
    {
     "data": {
      "text/plain": [
       "None"
      ]
     },
     "metadata": {},
     "output_type": "display_data"
    }
   ],
   "source": [
    "display(df.info())"
   ]
  },
  {
   "cell_type": "code",
   "execution_count": 63,
   "id": "13c3d88f",
   "metadata": {},
   "outputs": [
    {
     "data": {
      "text/html": [
       "<div>\n",
       "<style scoped>\n",
       "    .dataframe tbody tr th:only-of-type {\n",
       "        vertical-align: middle;\n",
       "    }\n",
       "\n",
       "    .dataframe tbody tr th {\n",
       "        vertical-align: top;\n",
       "    }\n",
       "\n",
       "    .dataframe thead th {\n",
       "        text-align: right;\n",
       "    }\n",
       "</style>\n",
       "<table border=\"1\" class=\"dataframe\">\n",
       "  <thead>\n",
       "    <tr style=\"text-align: right;\">\n",
       "      <th></th>\n",
       "      <th>count</th>\n",
       "      <th>mean</th>\n",
       "      <th>std</th>\n",
       "      <th>min</th>\n",
       "      <th>25%</th>\n",
       "      <th>50%</th>\n",
       "      <th>75%</th>\n",
       "      <th>max</th>\n",
       "    </tr>\n",
       "  </thead>\n",
       "  <tbody>\n",
       "    <tr>\n",
       "      <th>Rating</th>\n",
       "      <td>870.0</td>\n",
       "      <td>8.517241</td>\n",
       "      <td>2.268826</td>\n",
       "      <td>1.0</td>\n",
       "      <td>8.0</td>\n",
       "      <td>9.0</td>\n",
       "      <td>10.0</td>\n",
       "      <td>10.0</td>\n",
       "    </tr>\n",
       "  </tbody>\n",
       "</table>\n",
       "</div>"
      ],
      "text/plain": [
       "        count      mean       std  min  25%  50%   75%   max\n",
       "Rating  870.0  8.517241  2.268826  1.0  8.0  9.0  10.0  10.0"
      ]
     },
     "execution_count": 63,
     "metadata": {},
     "output_type": "execute_result"
    }
   ],
   "source": [
    "df.describe().T"
   ]
  },
  {
   "cell_type": "code",
   "execution_count": 64,
   "id": "fe018e15",
   "metadata": {},
   "outputs": [
    {
     "name": "stdout",
     "output_type": "stream",
     "text": [
      "Title     0\n",
      "Review    0\n",
      "Date      0\n",
      "Rating    8\n",
      "dtype: int64\n"
     ]
    }
   ],
   "source": [
    "null_counts = df.isnull().sum()\n",
    "print(null_counts)\n",
    "\n",
    "#solo hay 8 nulos en Rating"
   ]
  },
  {
   "cell_type": "code",
   "execution_count": 184,
   "id": "7673886e",
   "metadata": {},
   "outputs": [
    {
     "data": {
      "image/png": "[encoded data removed]",
      "text/plain": [
       "<Figure size 1200x500 with 1 Axes>"
      ]
     },
     "metadata": {},
     "output_type": "display_data"
    }
   ],
   "source": [
    "plt.figure(figsize=(12, 5))\n",
    "plt.subplot(1, 2, 1)\n",
    "sns.histplot(df['Rating'], kde=True)\n",
    "plt.title('Distribución de Rating')\n",
    "plt.tight_layout()\n",
    "plt.show()"
   ]
  },
  {
   "cell_type": "code",
   "execution_count": 66,
   "id": "5974c461",
   "metadata": {},
   "outputs": [],
   "source": [
    "#En Rating los vaolres que mas hay son de 10 haciendo que sea seguido por 8 y 9."
   ]
  },
  {
   "cell_type": "code",
   "execution_count": 2,
   "id": "46b30ed6",
   "metadata": {},
   "outputs": [
    {
     "data": {
      "text/plain": [
       "Title     878\n",
       "Review    878\n",
       "Date       40\n",
       "Rating     10\n",
       "dtype: int64"
      ]
     },
     "execution_count": 2,
     "metadata": {},
     "output_type": "execute_result"
    }
   ],
   "source": [
    "#5.\n",
    "#las columnas \"Title\" y \"Review\" probablemente contienen diferentes títulos y reseñas, que podrían ser considerados como categorías o etiquetas. "
   ]
  },
  {
   "cell_type": "markdown",
   "id": "47b59718",
   "metadata": {},
   "source": [
    "## ETAPA 2: ANÁLISIS DE SENTIMIENTOS.\n",
    "\n",
    "### Paso 1. Muestre las primeras 10 filas del dataset con las columnas \"Rating\" y \"Review\", haga un análisis rápido de esa información.\n",
    "\n",
    "### Paso 2. Haga una función que se encargue del pre-procesamiento:\n",
    "#### - Genere los tokens.\n",
    "#### - Filtre las palabras de parada.\n",
    "#### - Obtenga el lema de las palabras y guárdelo en una lista.\n",
    "#### - Retorne la lista en forma de una cadena, para ello debe unir los elementos de la lista mediante un espacio.\n",
    "\n",
    "### Paso 3. Aplique la función creada para obtener el lema de las columnas \"Review\" y \"Title\", guárde el resultado en nuevas columnas dentro del dataframe original (por ejemplo: \"ReviewText\", \"TitleText\").\n",
    "\n",
    "### Paso 4. Haga una función para obtener el sentimiento de las palabras, para ello puede utilizar el SentimentIntensityAnalizer() y su función \"polarity_scores()\". Al final debe retornar el puntaje de sentimiento.\n",
    "\n",
    "### Paso 5. Aplique la función creada para obtener el sentimiento en las columnas creadas en el paso 3, guarde el resultado en un par de columnas nuevas (por ejemplo: \"ReviewSentiment\", \"TitleSentiment\").\n",
    "\n",
    "### Paso 6. Prepare un dataframe con las columnas originales + las columnas creadas previamente, tendrían que haber 8 columnas, 3 de ellas deben ser numéricas (incluyendo \"Rating\").\n",
    "\n"
   ]
  },
  {
   "cell_type": "code",
   "execution_count": 58,
   "id": "74dfa154",
   "metadata": {},
   "outputs": [
    {
     "name": "stdout",
     "output_type": "stream",
     "text": [
      "   Rating                                             Review\n",
      "0     8.0  I have to admit that I've never watched any of...\n",
      "1     9.0  I'm a 60yo man & old school like the The Marin...\n",
      "2     9.0  Every live action anime that I've briefly seen...\n",
      "3    10.0  This is bar none one of the best live-action a...\n",
      "4    10.0  Being a one piece fan myself, I was a bit inse...\n",
      "5    10.0  GREAT ADAPTATION! As an old-school fan (since ...\n",
      "6     9.0  My kids play and watch One Piece anime and lov...\n",
      "7    10.0  I was so surprised that Netflix made something...\n",
      "8     8.0  Parenthetically I don't know anything about th...\n",
      "9    10.0  Initially I was apprehensive because of anime ...\n"
     ]
    }
   ],
   "source": [
    "subset = df[['Rating', 'Review']].head(10)\n",
    "print(subset)"
   ]
  },
  {
   "cell_type": "code",
   "execution_count": 59,
   "id": "213b8fb4",
   "metadata": {},
   "outputs": [],
   "source": [
    "##Este análisis preliminar sugiere que las primeras reseñas son en su mayoría positivas, con algunos revisores expresando una reserva inicial que parece disiparse una vez que ven la adaptación."
   ]
  },
  {
   "cell_type": "code",
   "execution_count": 60,
   "id": "c67a6caf",
   "metadata": {},
   "outputs": [],
   "source": [
    "def preprocess_text(text):\n",
    "    tokens = word_tokenize(text.lower())\n",
    "    filtered_tokens = [token for token in tokens if token not in stopwords.words('english')]\n",
    "    lemmatizer = WordNetLemmatizer()  \n",
    "    lemmatized_tokens = [lemmatizer.lemmatize(token) for token in filtered_tokens]\n",
    "    processed_text = ' '.join(lemmatized_tokens)\n",
    "    return processed_text"
   ]
  },
  {
   "cell_type": "code",
   "execution_count": 61,
   "id": "6960e13f",
   "metadata": {},
   "outputs": [],
   "source": [
    "df['ReviewText'] = df['Review'].apply(preprocess_text)\n",
    "df['TitleText'] = df['Title'].apply(preprocess_text)"
   ]
  },
  {
   "cell_type": "code",
   "execution_count": 62,
   "id": "93dd7fd2",
   "metadata": {},
   "outputs": [
    {
     "data": {
      "text/html": [
       "<div>\n",
       "<style scoped>\n",
       "    .dataframe tbody tr th:only-of-type {\n",
       "        vertical-align: middle;\n",
       "    }\n",
       "\n",
       "    .dataframe tbody tr th {\n",
       "        vertical-align: top;\n",
       "    }\n",
       "\n",
       "    .dataframe thead th {\n",
       "        text-align: right;\n",
       "    }\n",
       "</style>\n",
       "<table border=\"1\" class=\"dataframe\">\n",
       "  <thead>\n",
       "    <tr style=\"text-align: right;\">\n",
       "      <th></th>\n",
       "      <th>ReviewText</th>\n",
       "      <th>TitleText</th>\n",
       "    </tr>\n",
       "  </thead>\n",
       "  <tbody>\n",
       "    <tr>\n",
       "      <th>0</th>\n",
       "      <td>admit 've never watched animated show one piec...</td>\n",
       "      <td>never seen anime still enjoyed</td>\n",
       "    </tr>\n",
       "    <tr>\n",
       "      <th>1</th>\n",
       "      <td>'m 60yo man &amp; old school like marine admiral 😄...</td>\n",
       "      <td>kind show . loved .</td>\n",
       "    </tr>\n",
       "    <tr>\n",
       "      <th>2</th>\n",
       "      <td>every live action anime 've briefly seen nothi...</td>\n",
       "      <td>'m shocked good ...</td>\n",
       "    </tr>\n",
       "    <tr>\n",
       "      <th>3</th>\n",
       "      <td>bar none one best live-action adaption animate...</td>\n",
       "      <td>see netflix ? ? ...</td>\n",
       "    </tr>\n",
       "    <tr>\n",
       "      <th>4</th>\n",
       "      <td>one piece fan , bit insecured starting series ...</td>\n",
       "      <td>want season 2</td>\n",
       "    </tr>\n",
       "    <tr>\n",
       "      <th>5</th>\n",
       "      <td>great adaptation ! old-school fan ( since 2006...</td>\n",
       "      <td>wow ! big wow ! !</td>\n",
       "    </tr>\n",
       "    <tr>\n",
       "      <th>6</th>\n",
       "      <td>kid play watch one piece anime love ! n't terr...</td>\n",
       "      <td>anime fan , fun adventure !</td>\n",
       "    </tr>\n",
       "    <tr>\n",
       "      <th>7</th>\n",
       "      <td>surprised netflix made something incredible . ...</td>\n",
       "      <td>netflix make something great</td>\n",
       "    </tr>\n",
       "    <tr>\n",
       "      <th>8</th>\n",
       "      <td>parenthetically n't know anything source mater...</td>\n",
       "      <td>refreshingly fun</td>\n",
       "    </tr>\n",
       "    <tr>\n",
       "      <th>9</th>\n",
       "      <td>initially apprehensive anime adaptation produc...</td>\n",
       "      <td>best show year ! !</td>\n",
       "    </tr>\n",
       "  </tbody>\n",
       "</table>\n",
       "</div>"
      ],
      "text/plain": [
       "                                          ReviewText  \\\n",
       "0  admit 've never watched animated show one piec...   \n",
       "1  'm 60yo man & old school like marine admiral 😄...   \n",
       "2  every live action anime 've briefly seen nothi...   \n",
       "3  bar none one best live-action adaption animate...   \n",
       "4  one piece fan , bit insecured starting series ...   \n",
       "5  great adaptation ! old-school fan ( since 2006...   \n",
       "6  kid play watch one piece anime love ! n't terr...   \n",
       "7  surprised netflix made something incredible . ...   \n",
       "8  parenthetically n't know anything source mater...   \n",
       "9  initially apprehensive anime adaptation produc...   \n",
       "\n",
       "                        TitleText  \n",
       "0  never seen anime still enjoyed  \n",
       "1             kind show . loved .  \n",
       "2             'm shocked good ...  \n",
       "3             see netflix ? ? ...  \n",
       "4                   want season 2  \n",
       "5               wow ! big wow ! !  \n",
       "6     anime fan , fun adventure !  \n",
       "7    netflix make something great  \n",
       "8                refreshingly fun  \n",
       "9              best show year ! !  "
      ]
     },
     "execution_count": 62,
     "metadata": {},
     "output_type": "execute_result"
    }
   ],
   "source": [
    "df[['ReviewText', 'TitleText']].head(10)"
   ]
  },
  {
   "cell_type": "code",
   "execution_count": 63,
   "id": "ffb8e2da",
   "metadata": {},
   "outputs": [],
   "source": [
    "analyzer = SentimentIntensityAnalyzer()\n",
    "\n",
    "def get_sentiment(text):\n",
    "    scores = analyzer.polarity_scores(text)\n",
    "    sentiment = 1 if scores['pos'] > 0 else 0\n",
    "    return sentiment"
   ]
  },
  {
   "cell_type": "code",
   "execution_count": 64,
   "id": "22f0be0e",
   "metadata": {},
   "outputs": [],
   "source": [
    "df['ReviewSentiment'] = df['ReviewText'].apply(get_sentiment)\n",
    "df['TitleSentiment'] = df['TitleText'].apply(get_sentiment)"
   ]
  },
  {
   "cell_type": "code",
   "execution_count": 65,
   "id": "c4efe79a",
   "metadata": {},
   "outputs": [
    {
     "data": {
      "text/html": [
       "<div>\n",
       "<style scoped>\n",
       "    .dataframe tbody tr th:only-of-type {\n",
       "        vertical-align: middle;\n",
       "    }\n",
       "\n",
       "    .dataframe tbody tr th {\n",
       "        vertical-align: top;\n",
       "    }\n",
       "\n",
       "    .dataframe thead th {\n",
       "        text-align: right;\n",
       "    }\n",
       "</style>\n",
       "<table border=\"1\" class=\"dataframe\">\n",
       "  <thead>\n",
       "    <tr style=\"text-align: right;\">\n",
       "      <th></th>\n",
       "      <th>ReviewSentiment</th>\n",
       "      <th>TitleSentiment</th>\n",
       "    </tr>\n",
       "  </thead>\n",
       "  <tbody>\n",
       "    <tr>\n",
       "      <th>0</th>\n",
       "      <td>1</td>\n",
       "      <td>1</td>\n",
       "    </tr>\n",
       "    <tr>\n",
       "      <th>1</th>\n",
       "      <td>1</td>\n",
       "      <td>1</td>\n",
       "    </tr>\n",
       "    <tr>\n",
       "      <th>2</th>\n",
       "      <td>1</td>\n",
       "      <td>1</td>\n",
       "    </tr>\n",
       "    <tr>\n",
       "      <th>3</th>\n",
       "      <td>1</td>\n",
       "      <td>0</td>\n",
       "    </tr>\n",
       "    <tr>\n",
       "      <th>4</th>\n",
       "      <td>1</td>\n",
       "      <td>1</td>\n",
       "    </tr>\n",
       "    <tr>\n",
       "      <th>5</th>\n",
       "      <td>1</td>\n",
       "      <td>1</td>\n",
       "    </tr>\n",
       "    <tr>\n",
       "      <th>6</th>\n",
       "      <td>1</td>\n",
       "      <td>1</td>\n",
       "    </tr>\n",
       "    <tr>\n",
       "      <th>7</th>\n",
       "      <td>1</td>\n",
       "      <td>1</td>\n",
       "    </tr>\n",
       "    <tr>\n",
       "      <th>8</th>\n",
       "      <td>1</td>\n",
       "      <td>1</td>\n",
       "    </tr>\n",
       "    <tr>\n",
       "      <th>9</th>\n",
       "      <td>1</td>\n",
       "      <td>1</td>\n",
       "    </tr>\n",
       "  </tbody>\n",
       "</table>\n",
       "</div>"
      ],
      "text/plain": [
       "   ReviewSentiment  TitleSentiment\n",
       "0                1               1\n",
       "1                1               1\n",
       "2                1               1\n",
       "3                1               0\n",
       "4                1               1\n",
       "5                1               1\n",
       "6                1               1\n",
       "7                1               1\n",
       "8                1               1\n",
       "9                1               1"
      ]
     },
     "execution_count": 65,
     "metadata": {},
     "output_type": "execute_result"
    }
   ],
   "source": [
    "df[['ReviewSentiment', 'TitleSentiment']].head(10)"
   ]
  },
  {
   "cell_type": "code",
   "execution_count": 16,
   "id": "cfb8868b",
   "metadata": {},
   "outputs": [
    {
     "name": "stdout",
     "output_type": "stream",
     "text": [
      "<class 'pandas.core.frame.DataFrame'>\n",
      "RangeIndex: 878 entries, 0 to 877\n",
      "Data columns (total 8 columns):\n",
      " #   Column           Non-Null Count  Dtype  \n",
      "---  ------           --------------  -----  \n",
      " 0   Title            878 non-null    object \n",
      " 1   Review           878 non-null    object \n",
      " 2   Date             878 non-null    object \n",
      " 3   Rating           870 non-null    float64\n",
      " 4   ReviewText       878 non-null    object \n",
      " 5   TitleText        878 non-null    object \n",
      " 6   ReviewSentiment  878 non-null    int64  \n",
      " 7   TitleSentiment   878 non-null    int64  \n",
      "dtypes: float64(1), int64(2), object(5)\n",
      "memory usage: 55.0+ KB\n",
      "None\n"
     ]
    }
   ],
   "source": [
    "df_tratando = df.copy()\n",
    "print(df_tratando.info())"
   ]
  },
  {
   "cell_type": "markdown",
   "id": "fcfec7fb",
   "metadata": {},
   "source": [
    "## ETAPA 3: MACHINE LEARNING.\n",
    "\n",
    "### Paso 1. Asigne a la variable X las columnas numéricas menos \"Rating\"; asigne a la variable y la columna \"Rating\", seleccione únicamente las filas sin datos nulos (no elimine ni trate las filas con datos nulos, esas se usarán para predecir)\n",
    "\n",
    "### Paso 2. Divida en una muestra de entrenamiento y en una muestra de pruebas, estratifique en base a la proporción de la variable objetivo. El tamaño de la muestra para entrenamiento debe ser del 85%. Asigne una semilla para poder reproducir los resultados.\n",
    "\n",
    "### Paso 3. Entrene los siguientes modelos:\n",
    "#### - KNN para clasificación\n",
    "#### - SVM para clasificación\n",
    "#### - RandomForest para clasificación\n",
    "\n",
    "### Paso 4. Evalúe el rendimiento de los modelos (puede usar accuracy) creados en el paso previo, muestre las predicciones realizadas y compare con las etiquetas reales.\n",
    "\n",
    "### Paso 5. Debido a que este es un problema de clasificación, pero hay varias clases que son originalmente numéricas, se puede aplicar también una métrica de evaluación para regresión. Aplique el RMSE a las predicciones y las etiquetas reales, analice el resultado.\n",
    "\n",
    "### Paso 6. Utilice el modelo que se comportó mejor para predecir el \"Rating\" de las filas que tienen ese dato nulo, revise manualmente si la calificación predicha es consistente con el comentario en la reseña.\n",
    "\n",
    "### Paso 7. Escriba sus conclusiones al respecto."
   ]
  },
  {
   "cell_type": "code",
   "execution_count": 18,
   "id": "4d78c852",
   "metadata": {},
   "outputs": [],
   "source": [
    "df_sn = df_tratando.dropna()\n",
    "X = df_sn[['ReviewSentiment','TitleSentiment']]\n",
    "Y = df_sn['Rating']"
   ]
  },
  {
   "cell_type": "code",
   "execution_count": 19,
   "id": "8872cc24",
   "metadata": {},
   "outputs": [],
   "source": [
    "x_entrenamiento, x_prueba, y_entrenamiento, y_prueba = train_test_split(X, Y, test_size=0.15, stratify=Y, random_state=123)"
   ]
  },
  {
   "cell_type": "code",
   "execution_count": 20,
   "id": "b759d1b7",
   "metadata": {},
   "outputs": [],
   "source": [
    "#KNN\n",
    "knn_model = KNeighborsClassifier()\n",
    "knn_model.fit(x_entrenamiento, y_entrenamiento)\n",
    "knn_predicciones = knn_model.predict(x_prueba)"
   ]
  },
  {
   "cell_type": "code",
   "execution_count": 21,
   "id": "d56cefab",
   "metadata": {},
   "outputs": [],
   "source": [
    "#SVM\n",
    "svm_model = SVC()\n",
    "svm_model.fit(x_entrenamiento, y_entrenamiento)\n",
    "svm_predicciones = svm_model.predict(x_prueba)"
   ]
  },
  {
   "cell_type": "code",
   "execution_count": 22,
   "id": "1622facc",
   "metadata": {},
   "outputs": [],
   "source": [
    "#RandomForest\n",
    "rf_model = RandomForestClassifier(random_state=123)\n",
    "rf_model.fit(x_entrenamiento, y_entrenamiento)\n",
    "rf_predicciones = rf_model.predict(x_prueba)"
   ]
  },
  {
   "cell_type": "code",
   "execution_count": 29,
   "id": "fef8ef9e",
   "metadata": {},
   "outputs": [
    {
     "name": "stdout",
     "output_type": "stream",
     "text": [
      "<class 'pandas.core.frame.DataFrame'>\n",
      "Int64Index: 131 entries, 808 to 13\n",
      "Data columns (total 4 columns):\n",
      " #   Column            Non-Null Count  Dtype  \n",
      "---  ------            --------------  -----  \n",
      " 0   KNN_Predicciones  131 non-null    float64\n",
      " 1   SVM_Predicciones  131 non-null    float64\n",
      " 2   RF_Predicciones   131 non-null    float64\n",
      " 3   Etiquetas_Reales  131 non-null    float64\n",
      "dtypes: float64(4)\n",
      "memory usage: 5.1 KB\n"
     ]
    },
    {
     "data": {
      "text/plain": [
       "None"
      ]
     },
     "metadata": {},
     "output_type": "display_data"
    }
   ],
   "source": [
    "df_result = pd.DataFrame({\n",
    "    'KNN_Predicciones': knn_predicciones,\n",
    "    'SVM_Predicciones': svm_predicciones,\n",
    "    'RF_Predicciones': rf_predicciones,\n",
    "    'Etiquetas_Reales': y_prueba\n",
    "})\n",
    "\n",
    "display(df_result.info())"
   ]
  },
  {
   "cell_type": "code",
   "execution_count": 31,
   "id": "55303e1c",
   "metadata": {},
   "outputs": [
    {
     "name": "stdout",
     "output_type": "stream",
     "text": [
      "Precisión del modelo KNN: 0.1984732824427481\n"
     ]
    }
   ],
   "source": [
    "precision_knn = accuracy_score(y_prueba, knn_predicciones)\n",
    "print(f\"Precisión del modelo KNN: {precision_knn}\")"
   ]
  },
  {
   "cell_type": "code",
   "execution_count": 32,
   "id": "e14c9b01",
   "metadata": {},
   "outputs": [
    {
     "name": "stdout",
     "output_type": "stream",
     "text": [
      "Precisión del modelo SVM: 0.4961832061068702\n"
     ]
    }
   ],
   "source": [
    "precision_svm = accuracy_score(y_prueba, svm_predicciones)\n",
    "print(f\"Precisión del modelo SVM: {precision_svm}\")"
   ]
  },
  {
   "cell_type": "code",
   "execution_count": 33,
   "id": "d3d87593",
   "metadata": {},
   "outputs": [
    {
     "name": "stdout",
     "output_type": "stream",
     "text": [
      "Precisión del modelo RandomForest: 0.4961832061068702\n"
     ]
    }
   ],
   "source": [
    "precision_rf = accuracy_score(y_prueba, rf_predicciones)\n",
    "print(f\"Precisión del modelo RandomForest: {precision_rf}\")"
   ]
  },
  {
   "cell_type": "code",
   "execution_count": null,
   "id": "5e4a8a1a",
   "metadata": {},
   "outputs": [],
   "source": [
    "#la precisión del modelo KNN es bastante baja, apenas un 19.8%. Mientras que tanto el modelo SVM como el modelo RandomForest tienen una precisión de alrededor del 49.6%.\n",
    "#"
   ]
  },
  {
   "cell_type": "code",
   "execution_count": 28,
   "id": "665ceed1",
   "metadata": {},
   "outputs": [
    {
     "name": "stdout",
     "output_type": "stream",
     "text": [
      "RMSE KNN: 2.29003816762086\n",
      "RMSE SVM: 2.6787259133931505\n",
      "RMSE RandomForest: 2.6787259133931505\n"
     ]
    }
   ],
   "source": [
    "y_pred_knn = knn_model.predict(x_prueba)\n",
    "y_pred_svm = svm_model.predict(x_prueba)\n",
    "y_pred_rf = rf_model.predict(x_prueba)\n",
    "\n",
    "rmse_knn = np.sqrt(mean_squared_error(y_prueba, y_pred_knn))\n",
    "rmse_svm = np.sqrt(mean_squared_error(y_prueba, y_pred_svm))\n",
    "rmse_rf = np.sqrt(mean_squared_error(y_prueba, y_pred_rf))\n",
    "\n",
    "print(f\"RMSE KNN: {rmse_knn}\")\n",
    "print(f\"RMSE SVM: {rmse_svm}\")\n",
    "print(f\"RMSE RandomForest: {rmse_rf}\")"
   ]
  },
  {
   "cell_type": "code",
   "execution_count": 68,
   "id": "74808c58",
   "metadata": {},
   "outputs": [
    {
     "data": {
      "text/html": [
       "<div>\n",
       "<style scoped>\n",
       "    .dataframe tbody tr th:only-of-type {\n",
       "        vertical-align: middle;\n",
       "    }\n",
       "\n",
       "    .dataframe tbody tr th {\n",
       "        vertical-align: top;\n",
       "    }\n",
       "\n",
       "    .dataframe thead th {\n",
       "        text-align: right;\n",
       "    }\n",
       "</style>\n",
       "<table border=\"1\" class=\"dataframe\">\n",
       "  <thead>\n",
       "    <tr style=\"text-align: right;\">\n",
       "      <th></th>\n",
       "      <th>143</th>\n",
       "      <th>145</th>\n",
       "      <th>447</th>\n",
       "      <th>500</th>\n",
       "      <th>520</th>\n",
       "      <th>540</th>\n",
       "      <th>569</th>\n",
       "      <th>782</th>\n",
       "    </tr>\n",
       "  </thead>\n",
       "  <tbody>\n",
       "    <tr>\n",
       "      <th>Review</th>\n",
       "      <td>I admit, when I write reviews it's usually whe...</td>\n",
       "      <td>Fun fact: Eiichiro Oda, the creator of the man...</td>\n",
       "      <td>Just because there are many scenes in the mang...</td>\n",
       "      <td>I like the characters so far except Sanji's ha...</td>\n",
       "      <td>One Piece somehow managed to pull it off: a le...</td>\n",
       "      <td>As a life long fan of One Piece I don't know w...</td>\n",
       "      <td>If you browse there are series with more actio...</td>\n",
       "      <td>Everything went so right with casting and thei...</td>\n",
       "    </tr>\n",
       "    <tr>\n",
       "      <th>Rating_Prediccion</th>\n",
       "      <td>10.0</td>\n",
       "      <td>10.0</td>\n",
       "      <td>10.0</td>\n",
       "      <td>10.0</td>\n",
       "      <td>10.0</td>\n",
       "      <td>10.0</td>\n",
       "      <td>10.0</td>\n",
       "      <td>10.0</td>\n",
       "    </tr>\n",
       "  </tbody>\n",
       "</table>\n",
       "</div>"
      ],
      "text/plain": [
       "                                                                 143  \\\n",
       "Review             I admit, when I write reviews it's usually whe...   \n",
       "Rating_Prediccion                                               10.0   \n",
       "\n",
       "                                                                 145  \\\n",
       "Review             Fun fact: Eiichiro Oda, the creator of the man...   \n",
       "Rating_Prediccion                                               10.0   \n",
       "\n",
       "                                                                 447  \\\n",
       "Review             Just because there are many scenes in the mang...   \n",
       "Rating_Prediccion                                               10.0   \n",
       "\n",
       "                                                                 500  \\\n",
       "Review             I like the characters so far except Sanji's ha...   \n",
       "Rating_Prediccion                                               10.0   \n",
       "\n",
       "                                                                 520  \\\n",
       "Review             One Piece somehow managed to pull it off: a le...   \n",
       "Rating_Prediccion                                               10.0   \n",
       "\n",
       "                                                                 540  \\\n",
       "Review             As a life long fan of One Piece I don't know w...   \n",
       "Rating_Prediccion                                               10.0   \n",
       "\n",
       "                                                                 569  \\\n",
       "Review             If you browse there are series with more actio...   \n",
       "Rating_Prediccion                                               10.0   \n",
       "\n",
       "                                                                 782  \n",
       "Review             Everything went so right with casting and thei...  \n",
       "Rating_Prediccion                                               10.0  "
      ]
     },
     "execution_count": 68,
     "metadata": {},
     "output_type": "execute_result"
    }
   ],
   "source": [
    "filas_null = df_tratando[df_tratando['Rating'].isnull()]\n",
    "X_prediccion = filas_null[['ReviewSentiment', 'TitleSentiment']]\n",
    "predicciones = svm_model.predict(X_prediccion)\n",
    "df_pred = pd.DataFrame({\n",
    "    'Rating_Prediccion': predicciones,\n",
    "    'Rating_Real': filas_null['Rating'],\n",
    "    'Review': filas_null['Review'],\n",
    "    'Title': filas_null['Title'],    \n",
    "})\n",
    "df_pred[['Review', 'Rating_Prediccion']].head(10).T"
   ]
  },
  {
   "cell_type": "code",
   "execution_count": 69,
   "id": "3e51de58",
   "metadata": {},
   "outputs": [
    {
     "data": {
      "text/html": [
       "<div>\n",
       "<style scoped>\n",
       "    .dataframe tbody tr th:only-of-type {\n",
       "        vertical-align: middle;\n",
       "    }\n",
       "\n",
       "    .dataframe tbody tr th {\n",
       "        vertical-align: top;\n",
       "    }\n",
       "\n",
       "    .dataframe thead th {\n",
       "        text-align: right;\n",
       "    }\n",
       "</style>\n",
       "<table border=\"1\" class=\"dataframe\">\n",
       "  <thead>\n",
       "    <tr style=\"text-align: right;\">\n",
       "      <th></th>\n",
       "      <th>143</th>\n",
       "      <th>145</th>\n",
       "      <th>447</th>\n",
       "      <th>500</th>\n",
       "      <th>520</th>\n",
       "      <th>540</th>\n",
       "      <th>569</th>\n",
       "      <th>782</th>\n",
       "    </tr>\n",
       "  </thead>\n",
       "  <tbody>\n",
       "    <tr>\n",
       "      <th>Review</th>\n",
       "      <td>I admit, when I write reviews it's usually whe...</td>\n",
       "      <td>Fun fact: Eiichiro Oda, the creator of the man...</td>\n",
       "      <td>Just because there are many scenes in the mang...</td>\n",
       "      <td>I like the characters so far except Sanji's ha...</td>\n",
       "      <td>One Piece somehow managed to pull it off: a le...</td>\n",
       "      <td>As a life long fan of One Piece I don't know w...</td>\n",
       "      <td>If you browse there are series with more actio...</td>\n",
       "      <td>Everything went so right with casting and thei...</td>\n",
       "    </tr>\n",
       "    <tr>\n",
       "      <th>Rating_Prediccion</th>\n",
       "      <td>9.0</td>\n",
       "      <td>9.0</td>\n",
       "      <td>9.0</td>\n",
       "      <td>9.0</td>\n",
       "      <td>9.0</td>\n",
       "      <td>9.0</td>\n",
       "      <td>9.0</td>\n",
       "      <td>9.0</td>\n",
       "    </tr>\n",
       "  </tbody>\n",
       "</table>\n",
       "</div>"
      ],
      "text/plain": [
       "                                                                 143  \\\n",
       "Review             I admit, when I write reviews it's usually whe...   \n",
       "Rating_Prediccion                                                9.0   \n",
       "\n",
       "                                                                 145  \\\n",
       "Review             Fun fact: Eiichiro Oda, the creator of the man...   \n",
       "Rating_Prediccion                                                9.0   \n",
       "\n",
       "                                                                 447  \\\n",
       "Review             Just because there are many scenes in the mang...   \n",
       "Rating_Prediccion                                                9.0   \n",
       "\n",
       "                                                                 500  \\\n",
       "Review             I like the characters so far except Sanji's ha...   \n",
       "Rating_Prediccion                                                9.0   \n",
       "\n",
       "                                                                 520  \\\n",
       "Review             One Piece somehow managed to pull it off: a le...   \n",
       "Rating_Prediccion                                                9.0   \n",
       "\n",
       "                                                                 540  \\\n",
       "Review             As a life long fan of One Piece I don't know w...   \n",
       "Rating_Prediccion                                                9.0   \n",
       "\n",
       "                                                                 569  \\\n",
       "Review             If you browse there are series with more actio...   \n",
       "Rating_Prediccion                                                9.0   \n",
       "\n",
       "                                                                 782  \n",
       "Review             Everything went so right with casting and thei...  \n",
       "Rating_Prediccion                                                9.0  "
      ]
     },
     "execution_count": 69,
     "metadata": {},
     "output_type": "execute_result"
    }
   ],
   "source": [
    "X_prediccion = filas_null[['ReviewSentiment', 'TitleSentiment']]\n",
    "predicciones_knn = knn_model.predict(X_prediccion)\n",
    "\n",
    "df_predicciones_knn = pd.DataFrame({\n",
    "    'Rating_Prediccion': predicciones_knn,\n",
    "    'Review': filas_null['Review'],\n",
    "    'Title': filas_null['Title'],    \n",
    "})\n",
    "df_predicciones_knn[['Review', 'Rating_Prediccion']].head(10).T"
   ]
  },
  {
   "cell_type": "code",
   "execution_count": null,
   "id": "15e2f34a",
   "metadata": {},
   "outputs": [],
   "source": [
    "#Si la reseña parece ser altamente positiva y llena de elogios, el resultado de SVM 10.0 podría ser más preciso.\n",
    "#Sin embargo, si hay ciertos matices o críticas en la reseña que sugieren una puntuación ligeramente más baja, el resultado del KNN 9.0 podría ser más apropiado."
   ]
  },
  {
   "cell_type": "markdown",
   "id": "d36c77cc",
   "metadata": {},
   "source": [
    "## ETAPA 4: PRESENTACIÓN DEL PROYECTO.\n",
    "### Al igual que en los proyectos anteriores, suba su trabajo terminado a un repositorio nuevo de su GitHub.\n",
    "### Escriba un archivo \"README\" y describa el proceso seguido en este trabajo.\n",
    "### Al entregar este trabajo, debe subir este archivo, el archivo de instrucciones y el enlace al repositorio público de GitHub con este trabajo."
   ]
  }
 ],
 "metadata": {
  "kernelspec": {
   "display_name": "Python 3 (ipykernel)",
   "language": "python",
   "name": "python3"
  },
  "language_info": {
   "codemirror_mode": {
    "name": "ipython",
    "version": 3
   },
   "file_extension": ".py",
   "mimetype": "text/x-python",
   "name": "python",
   "nbconvert_exporter": "python",
   "pygments_lexer": "ipython3",
   "version": "3.11.4"
  }
 },
 "nbformat": 4,
 "nbformat_minor": 5
}
